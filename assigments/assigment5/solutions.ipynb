{
 "cells": [
  {
   "attachments": {},
   "cell_type": "markdown",
   "metadata": {},
   "source": [
    "## Assigment 5"
   ]
  },
  {
   "cell_type": "code",
   "execution_count": null,
   "metadata": {},
   "outputs": [],
   "source": [
    "import numpy as np\n",
    "from matplotlib import pyplot as plt\n",
    "from a5_utils import *\n",
    "from plotly.offline import init_notebook_mode\n",
    "import plotly.express as plotly_px\n",
    "import cufflinks as cf\n",
    "from os import listdir\n",
    "init_notebook_mode(connected=True)\n",
    "cf.go_offline()"
   ]
  },
  {
   "attachments": {},
   "cell_type": "markdown",
   "metadata": {},
   "source": [
    "## Helper Functions"
   ]
  },
  {
   "cell_type": "code",
   "execution_count": null,
   "metadata": {},
   "outputs": [],
   "source": [
    "from helpers import find_matches, ransac"
   ]
  },
  {
   "cell_type": "code",
   "execution_count": null,
   "metadata": {},
   "outputs": [],
   "source": [
    "def readGrayF64(path):\n",
    "    return cv2.imread(path, cv2.IMREAD_GRAYSCALE).astype(np.float64) / 255"
   ]
  },
  {
   "attachments": {},
   "cell_type": "markdown",
   "metadata": {},
   "source": [
    "## Exercise 1"
   ]
  },
  {
   "attachments": {},
   "cell_type": "markdown",
   "metadata": {},
   "source": [
    "### A"
   ]
  },
  {
   "attachments": {},
   "cell_type": "markdown",
   "metadata": {},
   "source": [
    "d = x1 - x2  \n",
    "x1 = (px / pz) * f  \n",
    "-x2 = ((T - px) / pz) * f  \n",
    "\n",
    "d = (px / pz) * f - ((T - px) / pz) * f  \n",
    "d = (px / pz) * f - (T / pz) * f + (px / pz) * f  \n",
    "d = 2 * (px / pz) * f - (T / pz) * f  \n",
    "d = ( 2 * px - T) * f / pz  "
   ]
  },
  {
   "attachments": {},
   "cell_type": "markdown",
   "metadata": {},
   "source": [
    "The further away the object is (greater pz) the smaller the disparity (smaller d)."
   ]
  },
  {
   "attachments": {},
   "cell_type": "markdown",
   "metadata": {},
   "source": [
    "### B"
   ]
  },
  {
   "cell_type": "code",
   "execution_count": null,
   "metadata": {},
   "outputs": [],
   "source": [
    "def disparity(px, pz, f, T):\n",
    "    return (2 * px - T) * f / pz"
   ]
  },
  {
   "cell_type": "code",
   "execution_count": null,
   "metadata": {},
   "outputs": [],
   "source": [
    "f = 2.55 * 10 ** -3 # 2.55mm\n",
    "T = 0.12 # 12cm\n",
    "px = 0\n",
    "\n",
    "disparity_fnc = lambda pz: disparity(px, pz, f, T)\n",
    "distances = np.linspace(0.01, 10, 1000)\n",
    "disparities = list(map(disparity_fnc, distances))\n",
    "\n",
    "fig, axes = plt.subplots(1, 1)\n",
    "axes.plot(distances, disparities)\n",
    "axes.set_xscale('log')"
   ]
  },
  {
   "attachments": {},
   "cell_type": "markdown",
   "metadata": {},
   "source": [
    "### C"
   ]
  },
  {
   "attachments": {},
   "cell_type": "markdown",
   "metadata": {},
   "source": [
    "f = 2.5 * 10^(-3) # 2.5 mm  \n",
    "T = 0.12 # 12 cm  \n",
    "resolution = 648 x 488 # pixels  \n",
    "pixel_size = 7.4 * 10^(-6) # 7.4 um, square pixels  \n",
    "\n",
    "---------------------------------------------  \n",
    "C1_x = 550 # pixels  \n",
    "C2_x = 300 # pixels  \n",
    "\n",
    "C1_m = C1_x * pixel_size # 4.08 mm  \n",
    "C2_m = C2_x * pixel_size # 2.2 mm  \n",
    "\n",
    "pz = (px * f) / C1_m  \n",
    "px = T - (pz * (-C2_m)) / f  \n",
    "\n",
    "pz = (T - (pz * (-C2_m))) / C1_m  \n",
    "C1_m * pz = T + pz * C2_m  \n",
    "pz = T / (C1_m - C2_m)  \n",
    "  \n",
    "pz = 0.12 / (0.00408 - 0.0022)  \n",
    "pz = 63.83 # 63.83 m  \n",
    "\n",
    "---------------------------------------------  \n",
    "C2_x = 540 # pixels  \n",
    "C2_m = C2_x * pixel_size # 4.0 mm  \n",
    "\n",
    "pz = 0.12 / (0.00408 - 0.004)  \n",
    "pz = 1500 # 1500 m  \n",
    "\n",
    "---------------------------------------------  \n",
    "C1_x = 648 # pixels  \n",
    "C1_m = C1_x * pixel_size # 4.68 mm  \n",
    "\n",
    "C2_x = 0 # pixels  \n",
    "C2_m = C2_x * pixel_size # 0 mm  \n",
    "\n",
    "pz = 0.12 / (0.00468 - 0)  \n",
    "pz = 25.53 # 25.53 m  "
   ]
  },
  {
   "attachments": {},
   "cell_type": "markdown",
   "metadata": {},
   "source": [
    "### D"
   ]
  },
  {
   "cell_type": "code",
   "execution_count": null,
   "metadata": {},
   "outputs": [],
   "source": [
    "def patch_values(I, x, y, patch_size):\n",
    "    patch = I[max(0, y - patch_size):min(I.shape[0], y + patch_size), max(0, x - patch_size):min(I.shape[1], x + patch_size)]\n",
    "    dev = patch - patch.mean()\n",
    "    return dev, np.sum(dev ** 2)\n",
    "\n",
    "def ncc(dev1, ss1, x, y, I2, patch_size, patches_memo):\n",
    "    if (y, x) not in patches_memo:\n",
    "        patches_memo[(y, x)] = patch_values(I2, x, y, patch_size)\n",
    "    \n",
    "    dev2, ss2 = patches_memo[(y, x)]\n",
    "    # normalized cross correlation\n",
    "    ncc = np.sum(dev1 * dev2) / np.sqrt(ss1 * ss2)\n",
    "\n",
    "    return ncc\n",
    "\n",
    "def arg_max_ncc(dev1, ss1, x, y, I2, patches_memo, search_window=15):\n",
    "    patch_size = dev1.shape[1] // 2\n",
    "\n",
    "    max_ncc = 0\n",
    "    max_x = 0\n",
    "    for dx in range(search_window):\n",
    "        x2 = x + dx\n",
    "        if x2 <= I2.shape[1] - patch_size:\n",
    "            val = ncc(dev1, ss1, x2, y, I2, patch_size, patches_memo)\n",
    "            if val >= max_ncc:\n",
    "                max_ncc = val\n",
    "                max_x = x2 + dx\n",
    "     \n",
    "        x2 = x - dx\n",
    "        if x2 >= patch_size:\n",
    "            val = ncc(dev1, ss1, x2, y, I2, patch_size, patches_memo)\n",
    "            if val >= max_ncc:\n",
    "                max_ncc = val\n",
    "                max_x = x2 - dx\n",
    "    return max_x, max_ncc\n",
    "\n",
    "def disparity(I1, I2, patch_size=5, search_window=15):\n",
    "    D = np.zeros_like(I1)\n",
    "    for y in range(patch_size, I1.shape[0] - patch_size):\n",
    "        pacthes_memo = {}\n",
    "        for x in range(patch_size, I1.shape[1] - patch_size):\n",
    "            dev1, ss1 = patch_values(I1, x, y, patch_size)\n",
    "            max_x, max_ncc = arg_max_ncc(dev1, ss1, x, y, I2, pacthes_memo, search_window=search_window)\n",
    "            D[y, x] = abs(x - max_x)\n",
    "    return D"
   ]
  },
  {
   "cell_type": "code",
   "execution_count": null,
   "metadata": {},
   "outputs": [],
   "source": [
    "office_left = readGrayF64(\"./assigments/assigment5/data/disparity/office_left.png\")\n",
    "office_right = readGrayF64(\"./assigments/assigment5/data/disparity/office_right.png\")\n",
    "office_left = cv2.resize(office_left, (0, 0), fx=0.5, fy=0.5)\n",
    "office_right = cv2.resize(office_right, (0, 0), fx=0.5, fy=0.5)\n",
    "office_left.shape, office_right.shape"
   ]
  },
  {
   "cell_type": "code",
   "execution_count": null,
   "metadata": {},
   "outputs": [],
   "source": [
    "fig, axes = plt.subplots(1, 2)\n",
    "axes[0].imshow(office_left, cmap='gray')\n",
    "axes[1].imshow(office_right, cmap='gray')"
   ]
  },
  {
   "cell_type": "code",
   "execution_count": null,
   "metadata": {},
   "outputs": [],
   "source": [
    "plt.imshow(disparity(office_right, office_left, patch_size=10, search_window=35), cmap='gray')"
   ]
  },
  {
   "attachments": {},
   "cell_type": "markdown",
   "metadata": {},
   "source": [
    "## Exercise 2"
   ]
  },
  {
   "attachments": {},
   "cell_type": "markdown",
   "metadata": {},
   "source": [
    "### A"
   ]
  },
  {
   "cell_type": "code",
   "execution_count": null,
   "metadata": {},
   "outputs": [],
   "source": [
    "def correspondence_matrix(points1, points2):\n",
    "    A = np.empty((points1.shape[0], 9))\n",
    "    for i, (p1, p2) in enumerate(zip(points1, points2)):\n",
    "        u, v, _ = p1\n",
    "        u_, v_, _ = p2\n",
    "        A[i] = [u * u_, u_ * v, u_, u * v_, v * v_, v_, u, v, 1]\n",
    "    return A\n",
    "\n",
    "def fundametnal_matrix(points1, points2, normalize=True):\n",
    "    if normalize:\n",
    "        points1, T1 = normalize_points(points1)\n",
    "        points2, T2 = normalize_points(points2)\n",
    "\n",
    "    A = correspondence_matrix(points1, points2)\n",
    "    U, D, V = np.linalg.svd(A)\n",
    "    F = V[-1].reshape(3, 3)\n",
    "    U, D, V = np.linalg.svd(F)\n",
    "    D[-1] = 0\n",
    "    F = U @ np.diag(D) @ V\n",
    "\n",
    "    if normalize:\n",
    "        F = T2.T @ F @ T1\n",
    "\n",
    "    # compute epipoles\n",
    "    U, D, V = np.linalg.svd(F)\n",
    "    e1 = V[-1] / V[-1, -1]\n",
    "    U, D, V = np.linalg.svd(F.T)\n",
    "    e2 = V[-1] / V[-1, -1]\n",
    "\n",
    "    return F, e1, e2\n",
    "\n",
    "def fundametnal_matrix_wrapper(points1, points2, normalize=True):\n",
    "    F, e1, e2 = fundametnal_matrix(points1, points2, normalize)\n",
    "    return F\n"
   ]
  },
  {
   "attachments": {},
   "cell_type": "markdown",
   "metadata": {},
   "source": [
    "l = F.T * p' (epipolar line [l] in camera 1 from detected point [p'] in camera 2)  \n",
    "l' = F * p (epipolar line [l'] in camera 2 from detected point [p] in camera 1)  "
   ]
  },
  {
   "cell_type": "code",
   "execution_count": null,
   "metadata": {},
   "outputs": [],
   "source": [
    "F = np.array([[1, 0, 0], [0, 0.5, 0], [0, 0, -1]])\n",
    "p = np.array([0, 2, 1]).T\n",
    "\n",
    "l_ = F @ p\n",
    "print(l_)\n",
    "\n",
    "p_ = np.array([1, 0, 1]).T\n",
    "l = F.T @ p_\n",
    "print(l)"
   ]
  },
  {
   "attachments": {},
   "cell_type": "markdown",
   "metadata": {},
   "source": [
    "### B"
   ]
  },
  {
   "cell_type": "code",
   "execution_count": null,
   "metadata": {},
   "outputs": [],
   "source": [
    "house_points = np.loadtxt(\"./assigments/assigment5/data/epipolar/house_points.txt\")\n",
    "house_points.shape"
   ]
  },
  {
   "cell_type": "code",
   "execution_count": null,
   "metadata": {},
   "outputs": [],
   "source": [
    "points_house_one = house_points[:, :2]\n",
    "points_house_two = house_points[:, 2:]"
   ]
  },
  {
   "cell_type": "code",
   "execution_count": null,
   "metadata": {},
   "outputs": [],
   "source": [
    "F, e1, e2 = fundametnal_matrix(points_house_one, points_house_two)\n",
    "reference_F = np.loadtxt(\"./assigments/assigment5/data/epipolar/house_fundamental.txt\")\n",
    "reference_F.shape, F.shape"
   ]
  },
  {
   "cell_type": "code",
   "execution_count": null,
   "metadata": {},
   "outputs": [],
   "source": [
    "e1, e2"
   ]
  },
  {
   "cell_type": "code",
   "execution_count": null,
   "metadata": {},
   "outputs": [],
   "source": [
    "np.round(F - reference_F, decimals=15)"
   ]
  },
  {
   "cell_type": "code",
   "execution_count": null,
   "metadata": {},
   "outputs": [],
   "source": [
    "house_one = readGrayF64(\"./assigments/assigment5/data/epipolar/house1.jpg\")\n",
    "house_two = readGrayF64(\"./assigments/assigment5/data/epipolar/house2.jpg\")\n",
    "house_one.shape, house_two.shape"
   ]
  },
  {
   "cell_type": "code",
   "execution_count": null,
   "metadata": {},
   "outputs": [],
   "source": [
    "def implict(p, q):\n",
    "    dx = q[0] - p[0]\n",
    "    dy = q[1] - p[1]\n",
    "    return np.array([-dy, dx, dy * p[0] - dx * p[1]])"
   ]
  },
  {
   "cell_type": "code",
   "execution_count": null,
   "metadata": {},
   "outputs": [],
   "source": [
    "fig = plt.figure(figsize=(15, 10))\n",
    "\n",
    "ax = fig.add_subplot(2, 2, 1)\n",
    "ax.set_title(\"House 1 - Lines to epiploe\")\n",
    "ax.imshow(house_one, cmap=\"gray\")\n",
    "for point in points_house_one:\n",
    "    ax.scatter(point[0], point[1], c=\"r\")\n",
    "    draw_epiline(implict(e1, point), *house_one.shape)\n",
    "\n",
    "ax = fig.add_subplot(2, 2, 2)\n",
    "ax.set_title(\"House 2 - Lines to epiploe\")\n",
    "ax.imshow(house_two, cmap=\"gray\")\n",
    "for point in points_house_two:\n",
    "    ax.scatter(point[0], point[1], c=\"r\")\n",
    "    draw_epiline(implict(point, e2), *house_two.shape)\n",
    "\n",
    "ax = fig.add_subplot(2, 2, 3)\n",
    "ax.set_title(\"House 1 - Epipolar lines\")\n",
    "ax.imshow(house_one, cmap=\"gray\")\n",
    "ax.scatter(points_house_one[:, 0], points_house_one[:, 1], c=\"r\")\n",
    "for point in points_house_two:\n",
    "    l = F.T @ np.array([point[0], point[1], 1])\n",
    "    draw_epiline(l, *house_one.shape)\n",
    "\n",
    "ax = fig.add_subplot(2, 2, 4)\n",
    "ax.set_title(\"House 2 - Epipolar lines\")\n",
    "ax.imshow(house_two, cmap=\"gray\")\n",
    "ax.scatter(points_house_two[:, 0], points_house_two[:, 1], c=\"r\")\n",
    "for point in points_house_one:\n",
    "    l = F @ np.array([point[0], point[1], 1])\n",
    "    draw_epiline(l, *house_two.shape)\n"
   ]
  },
  {
   "attachments": {},
   "cell_type": "markdown",
   "metadata": {},
   "source": [
    "### C"
   ]
  },
  {
   "cell_type": "code",
   "execution_count": null,
   "metadata": {},
   "outputs": [],
   "source": [
    "def distance_to_epiploar(F, p1, p2):\n",
    "    l = F.T @ p2\n",
    "    distance = np.abs(np.dot(l, p1)) / np.sqrt(l[0] ** 2 + l[1] ** 2)\n",
    "    return distance\n",
    "\n",
    "def reprojection_error(F, p1, p2):\n",
    "    p1_to_epipolar = distance_to_epiploar(F, p1, p2)\n",
    "    p2_to_epipolar = distance_to_epiploar(F.T, p2, p1)\n",
    "    return (p1_to_epipolar + p2_to_epipolar) / 2\n",
    "\n",
    "def reprojection_error_wrapper(points1, points2, F, t):\n",
    "    err = 0\n",
    "    inliers = []\n",
    "    for i, (p1, p2) in enumerate(zip(points1, points2)):\n",
    "        e = reprojection_error(F, [p1[0], p1[1], 1], [p2[0], p2[1], 1])\n",
    "        if e < t:\n",
    "            inliers.append(i)\n",
    "        err += e\n",
    "    return inliers, err / len(points1)"
   ]
  },
  {
   "cell_type": "code",
   "execution_count": null,
   "metadata": {},
   "outputs": [],
   "source": [
    "p1 = np.array([85, 233, 1])\n",
    "p2 = np.array([67, 219, 1])\n",
    "reprojection_error(F, p1, p2)"
   ]
  },
  {
   "cell_type": "code",
   "execution_count": null,
   "metadata": {},
   "outputs": [],
   "source": [
    "average_error = 0\n",
    "for i in range(points_house_one.shape[0]):\n",
    "    p1 = np.array([points_house_one[i][0], points_house_one[i][1], 1])\n",
    "    p2 = np.array([points_house_two[i][0], points_house_two[i][1], 1])\n",
    "    average_error += reprojection_error(F, p1, p2)\n",
    "print(average_error / points_house_one.shape[0])"
   ]
  },
  {
   "attachments": {},
   "cell_type": "markdown",
   "metadata": {},
   "source": [
    "### D"
   ]
  },
  {
   "cell_type": "code",
   "execution_count": null,
   "metadata": {},
   "outputs": [],
   "source": [
    "images = [readGrayF64(f\"./assigments/assigment5/data/desk/{img}\") for img in listdir(\"./assigments/assigment5/data/desk\") if img.endswith(\".JPG\")]\n",
    "len(images), images[0].shape"
   ]
  },
  {
   "cell_type": "code",
   "execution_count": null,
   "metadata": {},
   "outputs": [],
   "source": [
    "images = [cv2.resize(img, (0, 0), fx=0.25, fy=0.25) for img in images]\n",
    "len(images), images[0].shape"
   ]
  },
  {
   "cell_type": "code",
   "execution_count": null,
   "metadata": {},
   "outputs": [],
   "source": [
    "matches = {}\n",
    "for i in range(0, len(images)):\n",
    "    for j in range(i , len(images)):\n",
    "        print((i, j), \"done\")\n",
    "        matches[(i, j)] = find_matches(images[i], images[j])"
   ]
  },
  {
   "cell_type": "code",
   "execution_count": null,
   "metadata": {},
   "outputs": [],
   "source": [
    "a, b = 3, 4\n",
    "\n",
    "a, b = min(a, b), max(a, b)\n",
    "img_0 = images[a]\n",
    "img_1 = images[b]\n",
    "points_0, points_1 = matches[(a, b)]\n",
    "\n",
    "fig, axes = plt.subplots(1, 2, figsize=(15, 10))\n",
    "\n",
    "axes[0].imshow(img_0, cmap=\"gray\")\n",
    "axes[0].scatter(points_0[:, 1], points_0[:, 0], c=\"r\")\n",
    "for i, (y, x) in enumerate(points_0):\n",
    "    axes[0].annotate(i, (x, y))\n",
    "\n",
    "axes[1].imshow(img_1, cmap=\"gray\")\n",
    "axes[1].scatter(points_1[:, 1], points_1[:, 0], c=\"r\")\n",
    "for i, (y, x) in enumerate(points_1):\n",
    "    axes[1].annotate(i, (x, y))"
   ]
  },
  {
   "cell_type": "code",
   "execution_count": null,
   "metadata": {},
   "outputs": [],
   "source": [
    "len(points_0), len(points_1)"
   ]
  },
  {
   "cell_type": "code",
   "execution_count": null,
   "metadata": {},
   "outputs": [],
   "source": [
    "best_fundamental, good_projections, projection_error = ransac(points_0, points_1, k=1000, expected_err=0.5, t=50, estimatior=fundametnal_matrix_wrapper, inliers_func=reprojection_error_wrapper)\n",
    "best_fundamental, len(good_projections), projection_error"
   ]
  },
  {
   "cell_type": "code",
   "execution_count": null,
   "metadata": {},
   "outputs": [],
   "source": [
    "good_points_0 = points_0[good_projections]\n",
    "good_points_1 = points_1[good_projections]"
   ]
  },
  {
   "cell_type": "code",
   "execution_count": null,
   "metadata": {},
   "outputs": [],
   "source": [
    "fig = plt.figure(figsize=(15, 10))\n",
    "\n",
    "ax = fig.add_subplot(1, 2, 1)\n",
    "ax.imshow(img_0, cmap=\"gray\")\n",
    "ax.scatter(good_points_0[:, 1], good_points_0[:, 0], c=\"r\")\n",
    "for i, (y, x) in enumerate(good_points_0):\n",
    "    l = best_fundamental @ np.array([x, y, 1])\n",
    "    draw_epiline(l, *img_0.shape)\n",
    "    ax.annotate(i, (x, y))\n",
    "\n",
    "ax = fig.add_subplot(1, 2, 2)\n",
    "ax.imshow(img_1, cmap=\"gray\")\n",
    "ax.scatter(good_points_1[:, 1], good_points_1[:, 0], c=\"r\")\n",
    "for i, (y, x) in enumerate(good_points_1):\n",
    "    l = best_fundamental.T @ np.array([x, y, 1])\n",
    "    draw_epiline(l, *img_1.shape)\n",
    "    ax.annotate(i, (x, y))"
   ]
  },
  {
   "attachments": {},
   "cell_type": "markdown",
   "metadata": {},
   "source": [
    "## Exercise 3"
   ]
  },
  {
   "attachments": {},
   "cell_type": "markdown",
   "metadata": {},
   "source": [
    "### A"
   ]
  },
  {
   "cell_type": "code",
   "execution_count": null,
   "metadata": {},
   "outputs": [],
   "source": [
    "def shear_symetric_form(p):\n",
    "    if p.shape[0] == 2:\n",
    "        p = [*p, 1]\n",
    "    return np.array([[0, -p[2], p[1]], [p[2], 0, -p[0]], [-p[1], p[0], 0]])\n",
    "\n",
    "def triangulate(points1, points2, P1, P2):\n",
    "    triangulated_points = []\n",
    "    for i in range(points1.shape[0]):\n",
    "        ssf_p1 = shear_symetric_form(points1[i])\n",
    "        ssf_p2 = shear_symetric_form(points2[i])\n",
    "        A = np.vstack(((ssf_p1 @ P1)[:2, :], (ssf_p2 @ P2)[:2, :]))\n",
    "        U, D, V = np.linalg.svd(A)\n",
    "        triangulated_points.append(V[-1][:3] / V[-1, -1])\n",
    "    return np.array(triangulated_points)"
   ]
  },
  {
   "cell_type": "code",
   "execution_count": null,
   "metadata": {},
   "outputs": [],
   "source": [
    "house_one_calibration = np.loadtxt(\"./assigments/assigment5/data/epipolar/house1_camera.txt\")\n",
    "house_two_calibration = np.loadtxt(\"./assigments/assigment5/data/epipolar/house2_camera.txt\")\n",
    "house_one_calibration.shape, house_two_calibration.shape"
   ]
  },
  {
   "cell_type": "code",
   "execution_count": null,
   "metadata": {},
   "outputs": [],
   "source": [
    "triangulated_house_points = triangulate(points_house_one, points_house_two, house_one_calibration, house_two_calibration)\n",
    "triangulated_house_points.shape"
   ]
  },
  {
   "cell_type": "code",
   "execution_count": null,
   "metadata": {},
   "outputs": [],
   "source": [
    "fig, axes = plt.subplots(1, 3, figsize=(15, 5))\n",
    "\n",
    "axes[0].set_title(\"House 1\")\n",
    "axes[0].imshow(house_one, cmap=\"gray\")\n",
    "axes[0].scatter(points_house_one[:, 0], points_house_one[:, 1], s=10, c=\"r\")\n",
    "for i in range(points_house_one.shape[0]):\n",
    "    axes[0].annotate(i, (points_house_one[i][0], points_house_one[i][1]))\n",
    "\n",
    "axes[1].set_title(\"House 2\")\n",
    "axes[1].imshow(house_two, cmap=\"gray\")\n",
    "axes[1].scatter(points_house_two[:, 0], points_house_two[:, 1], s=10, c=\"r\")\n",
    "for i in range(points_house_two.shape[0]):\n",
    "    axes[1].annotate(i, (points_house_two[i][0], points_house_two[i][1]))\n",
    "\n",
    "axes3D = fig.add_subplot(1, 3, 3, projection='3d')\n",
    "axes3D.set_title(\"3D\")\n",
    "axes3D.scatter(-triangulated_house_points[:, 0], -triangulated_house_points[:, 2], triangulated_house_points[:, 1], c=\"r\")\n",
    "for i in range(triangulated_house_points.shape[0]):\n",
    "    axes3D.text(-triangulated_house_points[i][0], -triangulated_house_points[i][2], triangulated_house_points[i][1], i)\n"
   ]
  },
  {
   "cell_type": "code",
   "execution_count": null,
   "metadata": {},
   "outputs": [],
   "source": [
    "fig = plotly_px.scatter_3d(x=-triangulated_house_points[:, 0], y=-triangulated_house_points[:, 2], z=triangulated_house_points[:, 1], text=range(triangulated_house_points.shape[0]))\n",
    "fig"
   ]
  }
 ],
 "metadata": {
  "kernelspec": {
   "display_name": "computer_vision",
   "language": "python",
   "name": "python3"
  },
  "language_info": {
   "codemirror_mode": {
    "name": "ipython",
    "version": 3
   },
   "file_extension": ".py",
   "mimetype": "text/x-python",
   "name": "python",
   "nbconvert_exporter": "python",
   "pygments_lexer": "ipython3",
   "version": "3.10.8 | packaged by conda-forge | (main, Nov 24 2022, 14:07:00) [MSC v.1916 64 bit (AMD64)]"
  },
  "orig_nbformat": 4,
  "vscode": {
   "interpreter": {
    "hash": "ef903c05ace1f03684ad30097deb9e96d9071f174c5bd7237bfeb2ff0583c252"
   }
  }
 },
 "nbformat": 4,
 "nbformat_minor": 2
}
