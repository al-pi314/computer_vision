{
 "cells": [
  {
   "attachments": {},
   "cell_type": "markdown",
   "metadata": {},
   "source": [
    "## Assigment 6"
   ]
  },
  {
   "cell_type": "code",
   "execution_count": null,
   "metadata": {},
   "outputs": [],
   "source": [
    "import numpy as np\n",
    "import matplotlib.pyplot as plt\n",
    "from a6_utils import drawEllipse"
   ]
  },
  {
   "attachments": {},
   "cell_type": "markdown",
   "metadata": {},
   "source": [
    "### Exercise 1"
   ]
  },
  {
   "attachments": {},
   "cell_type": "markdown",
   "metadata": {},
   "source": [
    "### A"
   ]
  },
  {
   "attachments": {},
   "cell_type": "markdown",
   "metadata": {},
   "source": [
    "A = (3, 4), B = (3, 6), C = (7, 6), and D = (6, 4)  \n",
    "\n",
    "mean value of X = (3 + 3 + 7 + 6, 4 + 6 + 6 + 4) / 4 = (19, 20) / 4 = (4.75, 5)  \n",
    "\n",
    "centered X matrix:\n",
    "\n",
    "$$\\begin{bmatrix} -1.75 & -1.75 & 2.25 & 1.25 \\\\ -1 & 1 & 1 & -1 \\end{bmatrix}$$\n",
    "\n",
    "covariance matrix: \n",
    "\n",
    "$$\\begin{bmatrix} \\frac{17}{4} & \\frac{1}{3} \\\\ \\frac{1}{3} & \\frac{4}{3} \\end{bmatrix}$$\n"
   ]
  },
  {
   "attachments": {},
   "cell_type": "markdown",
   "metadata": {},
   "source": [
    "### B"
   ]
  },
  {
   "cell_type": "code",
   "execution_count": null,
   "metadata": {},
   "outputs": [],
   "source": [
    "def mean(X):\n",
    "    return np.mean(X, axis=1).reshape(-1, 1)\n",
    "\n",
    "def centered(X):\n",
    "    return X - mean(X)\n",
    "\n",
    "def covariance_matrix(X):\n",
    "    X_centered = centered(X)\n",
    "    N = X_centered.shape[1] - 1\n",
    "    return np.dot(X_centered, X_centered.T) / N\n",
    "\n",
    "def main_components(X):\n",
    "    X_covariance = covariance_matrix(X)\n",
    "    main_directions, importance, _ = np.linalg.svd(X_covariance)\n",
    "    return main_directions, importance\n"
   ]
  },
  {
   "cell_type": "code",
   "execution_count": null,
   "metadata": {},
   "outputs": [],
   "source": [
    "points = np.fromfile('./assigments/assignment6/data/points.txt', dtype=float, sep=' ').reshape(-1, 2).T\n",
    "points"
   ]
  },
  {
   "cell_type": "code",
   "execution_count": null,
   "metadata": {},
   "outputs": [],
   "source": [
    "fig = plt.figure(figsize=(5,5))\n",
    "\n",
    "plt.scatter(points[0], points[1], color='blue')\n",
    "drawEllipse(mean(points), covariance_matrix(points), n_std=1)\n",
    "\n",
    "plt.xlim(-2, 8)\n",
    "plt.ylim(-2, 8)"
   ]
  },
  {
   "attachments": {},
   "cell_type": "markdown",
   "metadata": {},
   "source": [
    "### C"
   ]
  },
  {
   "cell_type": "code",
   "execution_count": null,
   "metadata": {},
   "outputs": [],
   "source": [
    "main_directions, importance = main_components(points)\n",
    "main_directions, importance"
   ]
  },
  {
   "cell_type": "code",
   "execution_count": null,
   "metadata": {},
   "outputs": [],
   "source": [
    "fig = plt.figure(figsize=(5,5))\n",
    "\n",
    "plt.scatter(points[0], points[1], color='blue')\n",
    "drawEllipse(mean(points), covariance_matrix(points), n_std=1)\n",
    "\n",
    "plt.xlim(-2, 8)\n",
    "plt.ylim(-2, 8)\n",
    "\n",
    "mean_point = mean(points)\n",
    "\n",
    "center = mean_point\n",
    "end_red = mean_point + main_directions[:, [0]] * np.sqrt(importance[0])\n",
    "end_green = mean_point + main_directions[:, [1]] * np.sqrt(importance[1])\n",
    "plt.plot([center[0], end_red[0]], [center[1], end_red[1]], color='red')\n",
    "plt.plot([center[0], end_green[0]], [center[1], end_green[1]], color='green')"
   ]
  },
  {
   "attachments": {},
   "cell_type": "markdown",
   "metadata": {},
   "source": [
    "### D"
   ]
  },
  {
   "cell_type": "code",
   "execution_count": null,
   "metadata": {},
   "outputs": [],
   "source": [
    "# plot the eigenvalues\n",
    "plt.bar([0, 1], importance/np.sum(importance), color=['red', 'green'])"
   ]
  },
  {
   "attachments": {},
   "cell_type": "markdown",
   "metadata": {},
   "source": [
    "### E"
   ]
  },
  {
   "cell_type": "code",
   "execution_count": null,
   "metadata": {},
   "outputs": [],
   "source": [
    "fig = plt.figure(figsize=(5,5))\n",
    "\n",
    "pca_points = np.dot(main_directions.T, centered(points))\n",
    "plt.scatter(pca_points[0], pca_points[1], color='blue')\n",
    "\n",
    "plt.xlim(-5, 5)\n",
    "plt.ylim(-5, 5)"
   ]
  },
  {
   "cell_type": "code",
   "execution_count": null,
   "metadata": {},
   "outputs": [],
   "source": [
    "pca_projected_points = pca_points.copy()\n",
    "pca_projected_points[1, :] = 0\n",
    "\n",
    "reconstructed_points = np.dot(main_directions, pca_projected_points) + mean(points)"
   ]
  },
  {
   "cell_type": "code",
   "execution_count": null,
   "metadata": {},
   "outputs": [],
   "source": [
    "plt.scatter(reconstructed_points[0], reconstructed_points[1], color='red')\n",
    "plt.scatter(points[0], points[1], color='blue')"
   ]
  },
  {
   "attachments": {},
   "cell_type": "markdown",
   "metadata": {},
   "source": [
    "### F"
   ]
  },
  {
   "cell_type": "code",
   "execution_count": null,
   "metadata": {},
   "outputs": [],
   "source": [
    "q_point = np.array([[6], [6]])\n",
    "\n",
    "closes_point = np.argmin(np.linalg.norm(points - q_point, axis=0))\n",
    "\n",
    "pca_q_point = np.dot(main_directions.T, q_point - mean(points))\n",
    "pca_q_point[1] = 0\n",
    "\n",
    "reconstructed_q_point = np.dot(main_directions, pca_q_point) + mean(points)"
   ]
  },
  {
   "cell_type": "code",
   "execution_count": null,
   "metadata": {},
   "outputs": [],
   "source": [
    "plt.scatter(points[0], points[1], color='blue')\n",
    "plt.scatter(q_point[0], q_point[1], color='red')\n",
    "\n",
    "plt.scatter(reconstructed_points[0], reconstructed_points[1], color='green')\n",
    "plt.scatter(reconstructed_q_point[0], reconstructed_q_point[1], color='purple')\n",
    "\n",
    "plt.plot([q_point[0], reconstructed_q_point[0]], [q_point[1], reconstructed_q_point[1]], color='black')\n",
    "for i in range(points.shape[1]):\n",
    "    plt.plot([points[0, i], reconstructed_points[0, i]], [points[1, i], reconstructed_points[1, i]], color='black')"
   ]
  },
  {
   "attachments": {},
   "cell_type": "markdown",
   "metadata": {},
   "source": [
    "## Exercise 2"
   ]
  },
  {
   "attachments": {},
   "cell_type": "markdown",
   "metadata": {},
   "source": [
    "### A"
   ]
  },
  {
   "cell_type": "code",
   "execution_count": null,
   "metadata": {},
   "outputs": [],
   "source": [
    "def dual_pca(X):\n",
    "    N = X.shape[1]\n",
    "    X_centered = centered(X)\n",
    "    ipm = np.dot(X_centered.T, X_centered) / N\n",
    "    main_directions, importance, _ = np.linalg.svd(ipm)\n",
    "    importance += 10**-15\n",
    "    main_directions = np.dot(X_centered, main_directions) / np.sqrt(N * importance)\n",
    "    return main_directions, importance"
   ]
  },
  {
   "cell_type": "code",
   "execution_count": null,
   "metadata": {},
   "outputs": [],
   "source": [
    "dp_main_directions, dp_importance = dual_pca(points)\n",
    "main_directions, dp_main_directions[:2, :2]"
   ]
  },
  {
   "attachments": {},
   "cell_type": "markdown",
   "metadata": {},
   "source": [
    "### B"
   ]
  },
  {
   "cell_type": "code",
   "execution_count": null,
   "metadata": {},
   "outputs": [],
   "source": [
    "# offset\n",
    "offset = mean(points)\n",
    "\n",
    "# project points\n",
    "projected_points = np.dot(dp_main_directions.T, points - offset)\n",
    "\n",
    "# reconstructed points\n",
    "reconstructed_points = np.dot(dp_main_directions, projected_points) + offset\n",
    "\n",
    "# plot\n",
    "fig = plt.figure(figsize=(5,5))\n",
    "plt.scatter(points[0], points[1], color='red', marker='|', s=50)\n",
    "plt.scatter(reconstructed_points[0], reconstructed_points[1], color='black', marker='_', s=50)"
   ]
  },
  {
   "attachments": {},
   "cell_type": "markdown",
   "metadata": {},
   "source": [
    "## Exercise 3"
   ]
  },
  {
   "attachments": {},
   "cell_type": "markdown",
   "metadata": {},
   "source": [
    "### A"
   ]
  },
  {
   "cell_type": "code",
   "execution_count": null,
   "metadata": {},
   "outputs": [],
   "source": [
    "import os\n",
    "import cv2\n",
    "def load_space(directory):\n",
    "    # load each image as a grayscale vector\n",
    "    images = []\n",
    "    image_shape = None\n",
    "    for image_name in os.listdir(directory):\n",
    "        image = cv2.imread(os.path.join(directory, image_name), cv2.IMREAD_GRAYSCALE)\n",
    "        images.append(image.flatten() / 255)\n",
    "        image_shape = image.shape\n",
    "    return np.array(images).T, image_shape"
   ]
  },
  {
   "cell_type": "code",
   "execution_count": null,
   "metadata": {},
   "outputs": [],
   "source": [
    "space_one, one_sahpe = load_space('./assigments/assignment6/data/faces/1')\n",
    "space_one.shape, one_sahpe"
   ]
  },
  {
   "cell_type": "code",
   "execution_count": null,
   "metadata": {},
   "outputs": [],
   "source": [
    "space_two, two_shape = load_space('./assigments/assignment6/data/faces/2')\n",
    "space_two.shape, two_shape"
   ]
  },
  {
   "cell_type": "code",
   "execution_count": null,
   "metadata": {},
   "outputs": [],
   "source": [
    "space_three, three_shape = load_space('./assigments/assignment6/data/faces/3')\n",
    "space_three.shape, three_shape"
   ]
  },
  {
   "attachments": {},
   "cell_type": "markdown",
   "metadata": {},
   "source": [
    "### B"
   ]
  },
  {
   "cell_type": "code",
   "execution_count": null,
   "metadata": {},
   "outputs": [],
   "source": [
    "def transofrmation_parameters(X):\n",
    "    main_directions, importance = dual_pca(X)\n",
    "    m = mean(X)\n",
    "    return main_directions, m"
   ]
  },
  {
   "cell_type": "code",
   "execution_count": null,
   "metadata": {},
   "outputs": [],
   "source": [
    "space_one_eginvectors, space_one_means = transofrmation_parameters(space_one)"
   ]
  },
  {
   "cell_type": "code",
   "execution_count": null,
   "metadata": {},
   "outputs": [],
   "source": [
    "N = 5\n",
    "fig = plt.figure(figsize=(10, 10))\n",
    "\n",
    "for i in range(N):\n",
    "    plt.subplot(1, N, i+1)\n",
    "    plt.imshow(space_one_eginvectors[:, i].reshape(*one_sahpe), cmap='gray')"
   ]
  },
  {
   "cell_type": "code",
   "execution_count": null,
   "metadata": {},
   "outputs": [],
   "source": [
    "def project(X, eginvectors, mean):\n",
    "    return np.dot(eginvectors.T, X - mean)\n",
    "    \n",
    "def reconstruct(X, eginvectors, mean):\n",
    "    return np.dot(eginvectors, X) + mean"
   ]
  },
  {
   "cell_type": "code",
   "execution_count": null,
   "metadata": {},
   "outputs": [],
   "source": [
    "first_image = space_one[:, [0]]\n",
    "first_image.shape"
   ]
  },
  {
   "cell_type": "code",
   "execution_count": null,
   "metadata": {},
   "outputs": [],
   "source": [
    "projected = project(first_image, space_one_eginvectors, space_one_means)\n",
    "projected.shape"
   ]
  },
  {
   "cell_type": "code",
   "execution_count": null,
   "metadata": {},
   "outputs": [],
   "source": [
    "fig, ax = plt.subplots(1, 3, figsize=(10, 5))\n",
    "\n",
    "ax[0].imshow(first_image.reshape(*one_sahpe), cmap='gray')\n",
    "\n",
    "first_image_without_4074 = first_image.copy()\n",
    "first_image_without_4074[4074] = 0\n",
    "ax[1].imshow(first_image_without_4074.reshape(*one_sahpe), cmap='gray')\n",
    "\n",
    "projected_without_main = projected.copy()\n",
    "projected_without_main[0] = 0\n",
    "reconstructed_without_main = reconstruct(projected_without_main, space_one_eginvectors, space_one_means)\n",
    "ax[2].imshow(reconstructed_without_main.reshape(*one_sahpe), cmap='gray')"
   ]
  },
  {
   "cell_type": "code",
   "execution_count": null,
   "metadata": {},
   "outputs": [],
   "source": [
    "len(np.argwhere(first_image != reconstructed_without_main))"
   ]
  },
  {
   "attachments": {},
   "cell_type": "markdown",
   "metadata": {},
   "source": [
    "### C"
   ]
  },
  {
   "cell_type": "code",
   "execution_count": null,
   "metadata": {},
   "outputs": [],
   "source": [
    "projected_step_reduce = projected.copy()\n",
    "\n",
    "fig, ax = plt.subplots(1, 6, figsize=(15, 5))\n",
    "\n",
    "for i in range(5, -1, -1):\n",
    "    projected_step_reduce[2**i:] = 0\n",
    "    reconstructed_step_reduce = reconstruct(projected_step_reduce, space_one_eginvectors, space_one_means)\n",
    "    ax[5-i].imshow(reconstructed_step_reduce.reshape(*one_sahpe), cmap='gray')"
   ]
  },
  {
   "attachments": {},
   "cell_type": "markdown",
   "metadata": {},
   "source": [
    "### D"
   ]
  },
  {
   "cell_type": "code",
   "execution_count": null,
   "metadata": {},
   "outputs": [],
   "source": [
    "space_two_eginvectors, space_two_means = transofrmation_parameters(space_two)"
   ]
  },
  {
   "cell_type": "code",
   "execution_count": null,
   "metadata": {},
   "outputs": [],
   "source": [
    "projected_mean = project(space_two[:, [0]], space_two_eginvectors, space_two_means)"
   ]
  },
  {
   "cell_type": "code",
   "execution_count": null,
   "metadata": {},
   "outputs": [],
   "source": [
    "fig, ax = plt.subplots(1, 2, figsize=(10, 5))\n",
    "\n",
    "ax[0].imshow(space_two_means.reshape(*two_shape), cmap='gray')\n",
    "\n",
    "ax[1].imshow(reconstruct(projected_mean, space_two_eginvectors, space_two_means).reshape(*two_shape), cmap='gray')"
   ]
  },
  {
   "cell_type": "code",
   "execution_count": null,
   "metadata": {},
   "outputs": [],
   "source": [
    "def reconstruct_with_weight(X, i, scale=3000, loops=1, samples=100):\n",
    "    local_egin = space_two_eginvectors.copy()\n",
    "    for _ in range(loops):\n",
    "        value = np.sin(np.linspace(0, 2*np.pi, num=samples))\n",
    "        for v in value:\n",
    "            local_egin[:, :i] = v * scale\n",
    "            yield reconstruct(X, local_egin, space_two_means)"
   ]
  },
  {
   "cell_type": "code",
   "execution_count": null,
   "metadata": {},
   "outputs": [],
   "source": [
    "from time import sleep\n",
    "fig, ax = plt.subplots(1, 3, figsize=(10, 5))\n",
    "\n",
    "ax[0].imshow(space_two_means.reshape(*two_shape), cmap='gray')\n",
    "\n",
    "ax[1].imshow(reconstruct(projected_mean, space_two_eginvectors, space_two_means).reshape(*two_shape), cmap='gray')\n",
    "\n",
    "samples = 1\n",
    "generator = reconstruct_with_weight(projected_mean, 10, loops=3, samples=samples, scale=6000)\n",
    "for img in generator:\n",
    "    ax[2].imshow(img.reshape(*two_shape), cmap='gray')\n",
    "    plt.draw()\n",
    "    plt.pause(1 / samples)\n"
   ]
  },
  {
   "attachments": {},
   "cell_type": "markdown",
   "metadata": {},
   "source": [
    "### E"
   ]
  },
  {
   "cell_type": "code",
   "execution_count": null,
   "metadata": {},
   "outputs": [],
   "source": [
    "elephants = cv2.imread('./assigments/assignment6/data/elephant.jpg', cv2.IMREAD_GRAYSCALE)\n",
    "elephants.shape"
   ]
  },
  {
   "cell_type": "code",
   "execution_count": null,
   "metadata": {},
   "outputs": [],
   "source": [
    "elephants_vector = elephants.reshape(-1, 1)"
   ]
  },
  {
   "cell_type": "code",
   "execution_count": null,
   "metadata": {},
   "outputs": [],
   "source": [
    "reconstructed_elephants = reconstruct(project(elephants_vector, space_one_eginvectors, space_one_means), space_one_eginvectors, space_one_means)"
   ]
  },
  {
   "cell_type": "code",
   "execution_count": null,
   "metadata": {},
   "outputs": [],
   "source": [
    "space_one_reduced = space_one_eginvectors.copy()\n",
    "space_one_reduced[:, 100:] = 0\n",
    "\n",
    "space_one_main = space_one_eginvectors.copy()\n",
    "space_one_main[:, :100] = 0"
   ]
  },
  {
   "cell_type": "code",
   "execution_count": null,
   "metadata": {},
   "outputs": [],
   "source": [
    "reconstructed_elephants_reduced = reconstruct(project(elephants_vector, space_one_reduced, space_one_means), space_one_reduced, space_one_means)\n",
    "reconstructed_elephants_main = reconstruct(project(elephants_vector, space_one_main, space_one_means), space_one_main, space_one_means)"
   ]
  },
  {
   "cell_type": "code",
   "execution_count": null,
   "metadata": {},
   "outputs": [],
   "source": [
    "fig, ax = plt.subplots(1, 4, figsize=(10, 5))\n",
    "\n",
    "ax[0].imshow(elephants, cmap='gray')\n",
    "\n",
    "ax[1].imshow(reconstructed_elephants.reshape(*elephants.shape), cmap='gray') # same because operations are reversible\n",
    "\n",
    "ax[2].imshow(reconstructed_elephants_main.reshape(*elephants.shape), cmap='gray')\n",
    "\n",
    "ax[3].imshow(reconstructed_elephants_reduced.reshape(*elephants.shape), cmap='gray')"
   ]
  },
  {
   "attachments": {},
   "cell_type": "markdown",
   "metadata": {},
   "source": [
    "### G"
   ]
  },
  {
   "cell_type": "code",
   "execution_count": null,
   "metadata": {},
   "outputs": [],
   "source": [
    "space_three_eginvectors, space_three_means = transofrmation_parameters(space_three)"
   ]
  },
  {
   "cell_type": "code",
   "execution_count": null,
   "metadata": {},
   "outputs": [],
   "source": [
    "projected_space_one = project(space_one, space_one_eginvectors, space_one_means)\n",
    "projected_space_two = project(space_two, space_two_eginvectors, space_two_means)\n",
    "projected_space_three = project(space_three, space_three_eginvectors, space_three_means)"
   ]
  },
  {
   "cell_type": "code",
   "execution_count": null,
   "metadata": {},
   "outputs": [],
   "source": [
    "space_one_mean = mean(projected_space_one)\n",
    "space_two_mean = mean(projected_space_two)\n",
    "space_three_mean = mean(projected_space_three)\n",
    "space_mean = (space_one_mean + space_two_mean + space_three_mean) / 3"
   ]
  },
  {
   "cell_type": "code",
   "execution_count": null,
   "metadata": {},
   "outputs": [],
   "source": [
    "centered_means = [space_one_mean - space_mean, space_two_mean - space_mean, space_three_mean - space_mean]\n",
    "centered_classes = [projected_space_one - space_one_mean, projected_space_two - space_two_mean, projected_space_three - space_three_mean]"
   ]
  },
  {
   "cell_type": "code",
   "execution_count": null,
   "metadata": {},
   "outputs": [],
   "source": [
    "def between_class_scatter(centered_means):\n",
    "    SB = np.zeros((len(centered_means[0]), len(centered_means[0])))\n",
    "    for cm in centered_means:\n",
    "        SB += len(cm) * (cm @ cm.T)\n",
    "    return SB\n",
    "\n",
    "def within_class_scatter(centered_classes):\n",
    "    SW = np.zeros((len(centered_classes[0]), len(centered_classes[0])))\n",
    "    for cc in centered_classes:\n",
    "        SW += cc @ cc.T\n",
    "    return SW\n"
   ]
  },
  {
   "cell_type": "code",
   "execution_count": null,
   "metadata": {},
   "outputs": [],
   "source": [
    "SB = between_class_scatter(centered_means)\n",
    "SW = within_class_scatter(centered_classes)"
   ]
  },
  {
   "cell_type": "code",
   "execution_count": null,
   "metadata": {},
   "outputs": [],
   "source": [
    "SB.shape, SW.shape"
   ]
  },
  {
   "cell_type": "code",
   "execution_count": null,
   "metadata": {},
   "outputs": [],
   "source": [
    "eigvecs, egival, _ = np.linalg.svd(np.linalg.inv(SW) @ SB)"
   ]
  },
  {
   "cell_type": "code",
   "execution_count": null,
   "metadata": {},
   "outputs": [],
   "source": [
    "lda_projected_one = project(projected_space_one, eigvecs, space_one_mean)\n",
    "lda_projected_two = project(projected_space_two, eigvecs, space_two_mean)\n",
    "lda_projected_three = project(projected_space_three, eigvecs, space_three_mean)"
   ]
  },
  {
   "cell_type": "code",
   "execution_count": null,
   "metadata": {},
   "outputs": [],
   "source": [
    "fig, axes = plt.subplots(1, 2, figsize=(10, 5))\n",
    "\n",
    "axes[0].scatter(projected_space_one[0], projected_space_one[1], label='space one')\n",
    "axes[0].scatter(projected_space_two[0], projected_space_two[1], label='space two')\n",
    "axes[0].scatter(projected_space_three[0], projected_space_three[1], label='space three')\n",
    "\n",
    "axes[1].scatter(lda_projected_one[0], lda_projected_one[1], label='space one')\n",
    "axes[1].scatter(lda_projected_two[0], lda_projected_two[1], label='space two')\n",
    "axes[1].scatter(lda_projected_three[0], lda_projected_three[1], label='space three')"
   ]
  }
 ],
 "metadata": {
  "kernelspec": {
   "display_name": "computer_vision",
   "language": "python",
   "name": "python3"
  },
  "language_info": {
   "codemirror_mode": {
    "name": "ipython",
    "version": 3
   },
   "file_extension": ".py",
   "mimetype": "text/x-python",
   "name": "python",
   "nbconvert_exporter": "python",
   "pygments_lexer": "ipython3",
   "version": "3.10.8"
  },
  "orig_nbformat": 4,
  "vscode": {
   "interpreter": {
    "hash": "ef903c05ace1f03684ad30097deb9e96d9071f174c5bd7237bfeb2ff0583c252"
   }
  }
 },
 "nbformat": 4,
 "nbformat_minor": 2
}
