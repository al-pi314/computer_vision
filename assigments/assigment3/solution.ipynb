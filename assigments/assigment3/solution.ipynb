{
 "cells": [
  {
   "cell_type": "markdown",
   "metadata": {},
   "source": [
    "## Assigment 3"
   ]
  },
  {
   "cell_type": "code",
   "execution_count": 37,
   "metadata": {},
   "outputs": [],
   "source": [
    "import numpy as np\n",
    "import matplotlib.pyplot as plt\n",
    "import cv2"
   ]
  },
  {
   "cell_type": "markdown",
   "metadata": {},
   "source": [
    "### Exercise 1"
   ]
  },
  {
   "cell_type": "markdown",
   "metadata": {},
   "source": [
    "#### A"
   ]
  },
  {
   "cell_type": "markdown",
   "metadata": {},
   "source": [
    "- Ix (x,y) = [g(y) * I(x, y)] * dg(x) / dx\n",
    "- Iy (x, y) = [g(x) * I(x, y)] * dg(y) / dy\n",
    "- Ixx (x, y) = [g(y) * Ix (x, y)] * dg(x) / dx\n",
    "- Iyy (x, y) = [g(x) * Iy(x, y)] * dg(y) / dy\n",
    "- Ixy (x, y) = [g(x) * Ix (x, y)] * dg(y) / dy\n",
    "- Iyx (x, y) = [g(y) * Iy (x,y)] * dg(x) / dx"
   ]
  },
  {
   "cell_type": "markdown",
   "metadata": {},
   "source": [
    "#### B"
   ]
  },
  {
   "cell_type": "code",
   "execution_count": 26,
   "metadata": {},
   "outputs": [],
   "source": [
    "def gaussdx(sigma):\n",
    "    f = lambda x: np.exp(-x**2/(2*sigma**2)) * (-x/(np.sqrt(2*np.pi) * sigma**3))\n",
    "    r = np.array(list(map(f, np.arange(-3*sigma, 3*sigma+1))))\n",
    "    return r / sum(abs(r))\n",
    "\n",
    "def gaussian(sigma):\n",
    "    f = lambda x: np.exp(-x**2/(2*sigma**2)) / (np.sqrt(2*np.pi) * sigma)\n",
    "    r = np.array(list(map(f, np.arange(-3*sigma, 3*sigma+1))))\n",
    "    return r / sum(r)"
   ]
  },
  {
   "cell_type": "code",
   "execution_count": 28,
   "metadata": {},
   "outputs": [
    {
     "name": "stdout",
     "output_type": "stream",
     "text": [
      "Sum: 0.9999999999999999\n",
      "Abs Sum: 0.9999999999999999\n"
     ]
    },
    {
     "data": {
      "text/plain": [
       "array([0.0022182 , 0.00877313, 0.02702316, 0.06482519, 0.12110939,\n",
       "       0.17621312, 0.19967563, 0.17621312, 0.12110939, 0.06482519,\n",
       "       0.02702316, 0.00877313, 0.0022182 ])"
      ]
     },
     "execution_count": 28,
     "metadata": {},
     "output_type": "execute_result"
    }
   ],
   "source": [
    "g = gaussian(2)\n",
    "print(\"Sum:\", sum(g))\n",
    "print(\"Abs Sum:\", sum(abs(g)))\n",
    "g"
   ]
  },
  {
   "cell_type": "code",
   "execution_count": 27,
   "metadata": {},
   "outputs": [
    {
     "name": "stdout",
     "output_type": "stream",
     "text": [
      "Sum: -5.898059818321144e-17\n",
      "Abs Sum: 1.0\n"
     ]
    },
    {
     "data": {
      "text/plain": [
       "array([ 0.00855153,  0.02818497,  0.06945265,  0.12495619,  0.1556326 ,\n",
       "        0.11322205,  0.        , -0.11322205, -0.1556326 , -0.12495619,\n",
       "       -0.06945265, -0.02818497, -0.00855153])"
      ]
     },
     "execution_count": 27,
     "metadata": {},
     "output_type": "execute_result"
    }
   ],
   "source": [
    "gdx = gaussdx(2)\n",
    "print(\"Sum:\", sum(gdx))\n",
    "print(\"Abs Sum:\", sum(abs(gdx)))\n",
    "gdx"
   ]
  },
  {
   "cell_type": "markdown",
   "metadata": {},
   "source": [
    "#### C"
   ]
  },
  {
   "cell_type": "code",
   "execution_count": 30,
   "metadata": {},
   "outputs": [],
   "source": [
    "impulse = np.zeros((50, 50))\n",
    "impulse[25, 25] = 1"
   ]
  },
  {
   "cell_type": "code",
   "execution_count": 39,
   "metadata": {},
   "outputs": [
    {
     "data": {
      "image/png": "[encoded data removed]",
      "text/plain": [
       "<Figure size 1080x720 with 6 Axes>"
      ]
     },
     "metadata": {
      "needs_background": "light"
     },
     "output_type": "display_data"
    }
   ],
   "source": [
    "kernels =   [[  (None, None),  (g, gdx.T),      (gdx, g.T)  ],\n",
    "            [   (g, g.T),      (g.T, gdx),      (gdx.T, g)  ]]\n",
    "\n",
    "figure, axes = plt.subplots(2, 3, figsize=(15, 10))\n",
    "for i in range(len(axes)):\n",
    "    for j in range(len(axes[i])):\n",
    "        img = impulse.copy()\n",
    "        if kernels[i][j][0] is not None:\n",
    "            img = cv2.filter2D(img, -1, kernels[i][j][0])\n",
    "        if kernels[i][j][1] is not None:\n",
    "            img = cv2.filter2D(img, -1, kernels[i][j][1])\n",
    "        axes[i][j].imshow(img, cmap='gray')\n"
   ]
  }
 ],
 "metadata": {
  "kernelspec": {
   "display_name": "Python 3.8.3 32-bit",
   "language": "python",
   "name": "python3"
  },
  "language_info": {
   "codemirror_mode": {
    "name": "ipython",
    "version": 3
   },
   "file_extension": ".py",
   "mimetype": "text/x-python",
   "name": "python",
   "nbconvert_exporter": "python",
   "pygments_lexer": "ipython3",
   "version": "3.8.3"
  },
  "orig_nbformat": 4,
  "vscode": {
   "interpreter": {
    "hash": "fd842d8df66ef28d7fe440428323b6f84ec6e0f16b4bdb8d76cd75f5789ac647"
   }
  }
 },
 "nbformat": 4,
 "nbformat_minor": 2
}
